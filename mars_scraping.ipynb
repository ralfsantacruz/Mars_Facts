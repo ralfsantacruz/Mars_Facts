{
 "cells": [
  {
   "cell_type": "code",
   "execution_count": 1,
   "metadata": {},
   "outputs": [],
   "source": [
    "from bs4 import BeautifulSoup as bs\n",
    "from splinter import Browser\n",
    "from pprint import pprint\n",
    "import random as r\n",
    "\n",
    "import re\n",
    "import pandas as pd"
   ]
  },
  {
   "cell_type": "code",
   "execution_count": 2,
   "metadata": {},
   "outputs": [],
   "source": [
    "def get_soup(url):\n",
    "    \"\"\" \n",
    "    This function uses splinter and beautiful soup to serve you up a BeautifulSoup object to scrape from.\n",
    "        Just hit it with your url of interest and you're all set.\n",
    "    \"\"\"\n",
    "    executable_path = {'executable_path': 'chromedriver.exe'}\n",
    "    browser = Browser('chrome', **executable_path, headless=False)\n",
    "    browser.visit(url)\n",
    "    html = browser.html\n",
    "    soup = bs(html, 'html.parser')\n",
    "    return soup   "
   ]
  },
  {
   "cell_type": "code",
   "execution_count": 3,
   "metadata": {},
   "outputs": [],
   "source": [
    "def text(x):\n",
    "    \"\"\" \n",
    "    Deletes all '\\n' instances in HTML text to clean it up. Requires a parsed BeautifulSoup object.\n",
    "    \"\"\"\n",
    "    return x.text.replace('\\n','')"
   ]
  },
  {
   "cell_type": "code",
   "execution_count": 4,
   "metadata": {},
   "outputs": [],
   "source": [
    "def random_element(x):\n",
    "    \"\"\"\n",
    "    Takes in a list and returns a random element from the list.\n",
    "    \"\"\"\n",
    "    return x[r.randint(0,len(x)-1)]"
   ]
  },
  {
   "cell_type": "code",
   "execution_count": 5,
   "metadata": {},
   "outputs": [],
   "source": [
    "# Scrape the Mars news website.\n",
    "def mars_headlines():\n",
    "    \"\"\"\n",
    "    Returns a list of dictionaries for the Mars News headlines and their descriptions.\n",
    "    \"\"\"\n",
    "    mars_news = get_soup(\"https://mars.nasa.gov/news/\")\n",
    "    # Find headlines and descriptions\n",
    "    headlines = mars_news.find_all('div',class_=\"content_title\")\n",
    "    descriptions =  mars_news.find_all('div',class_=\"article_teaser_body\")\n",
    "    # Make a list of dictionaries for every headline and its description.\n",
    "    mars_headlines = [{'title': text(a), 'description': text(b)} for a,b, in zip(headlines,descriptions)]\n",
    "    return mars_headlines"
   ]
  },
  {
   "cell_type": "code",
   "execution_count": 6,
   "metadata": {},
   "outputs": [],
   "source": [
    "# Scrape the JPL Images site.\n",
    "def featured_image():\n",
    "    \"\"\" \n",
    "    Returns the featured image url on the JPL.nasa.gov website\n",
    "    \"\"\"\n",
    "    JPL = get_soup(\"https://www.jpl.nasa.gov/spaceimages/?search=&category=Mars#submit\")\n",
    "    # Finds url path for the full-res featured image on the JPL gallery and concatenates it to form proper url.\n",
    "    css_styling = JPL.find('article', class_=\"carousel_item\")['style']\n",
    "    string = css_styling.split()[1]\n",
    "    result = re.search(\"'(.*)'\", string)\n",
    "    featured_url = result.group(1)\n",
    "    return \"https://www.jpl.nasa.gov\" + featured_url"
   ]
  },
  {
   "cell_type": "code",
   "execution_count": 7,
   "metadata": {},
   "outputs": [],
   "source": [
    "# Scrape the Mars Twitter Website\n",
    "def get_tweets():\n",
    "    \"\"\"\n",
    "    Returns a list of tweets from Mars weather Twitter page.\n",
    "    Only returns tweets that have been loaded upon navigation to the page.\n",
    "    \"\"\"\n",
    "    mars_twitter = get_soup(\"https://twitter.com/marswxreport?lang=en\")\n",
    "    tweets = mars_twitter.find_all('div', class_=\"js-tweet-text-container\")\n",
    "    tweet_list = [text(tweet) for tweet in tweets]\n",
    "        \n",
    "    return tweet_list"
   ]
  },
  {
   "cell_type": "code",
   "execution_count": 11,
   "metadata": {},
   "outputs": [
    {
     "name": "stdout",
     "output_type": "stream",
     "text": [
      "<table border=\"1\" class=\"dataframe\">\n",
      "  <thead>\n",
      "    <tr style=\"text-align: right;\">\n",
      "      <th></th>\n",
      "      <th></th>\n",
      "    </tr>\n",
      "    <tr>\n",
      "      <th>Mars Profile</th>\n",
      "      <th></th>\n",
      "    </tr>\n",
      "  </thead>\n",
      "  <tbody>\n",
      "    <tr>\n",
      "      <th>Equatorial Diameter:</th>\n",
      "      <td>6,792 km</td>\n",
      "    </tr>\n",
      "    <tr>\n",
      "      <th>Polar Diameter:</th>\n",
      "      <td>6,752 km</td>\n",
      "    </tr>\n",
      "    <tr>\n",
      "      <th>Mass:</th>\n",
      "      <td>6.42 x 10^23 kg (10.7% Earth)</td>\n",
      "    </tr>\n",
      "    <tr>\n",
      "      <th>Moons:</th>\n",
      "      <td>2 (Phobos &amp; Deimos)</td>\n",
      "    </tr>\n",
      "    <tr>\n",
      "      <th>Orbit Distance:</th>\n",
      "      <td>227,943,824 km (1.52 AU)</td>\n",
      "    </tr>\n",
      "    <tr>\n",
      "      <th>Orbit Period:</th>\n",
      "      <td>687 days (1.9 years)</td>\n",
      "    </tr>\n",
      "    <tr>\n",
      "      <th>Surface Temperature:</th>\n",
      "      <td>-153 to 20 °C</td>\n",
      "    </tr>\n",
      "    <tr>\n",
      "      <th>First Record:</th>\n",
      "      <td>2nd millennium BC</td>\n",
      "    </tr>\n",
      "    <tr>\n",
      "      <th>Recorded By:</th>\n",
      "      <td>Egyptian astronomers</td>\n",
      "    </tr>\n",
      "  </tbody>\n",
      "</table>\n"
     ]
    }
   ],
   "source": [
    "# Scrape the Mars Facts site to extract the planet profile table and clean it up.\n",
    "def mars_html_table():\n",
    "    \"\"\" \n",
    "    Returns the the Mars planet profile as an html table\n",
    "    \"\"\"\n",
    "    mars_facts = pd.read_html(\"https://space-facts.com/mars/\")[0]\n",
    "    mars_facts.columns=['Mars Profile','']\n",
    "    mars_facts = mars_facts.set_index('Mars Profile')\n",
    "    # Export the table to HTML\n",
    "    mars_table = mars_facts.to_html()\n",
    "    print(mars_table)\n",
    "\n",
    "mars_html_table()"
   ]
  },
  {
   "cell_type": "code",
   "execution_count": 9,
   "metadata": {},
   "outputs": [],
   "source": [
    "# Scrapes USGS website to obtain a list of urls for pictures of the 4 hemispheres of Mars.\n",
    "def mars_hemispheres():  \n",
    "    \"\"\" \n",
    "    Returns a list of dictionarties containing image urls and their titles for the 4 hemispheres of Mars.\n",
    "    \"\"\"\n",
    "    pic_list = []\n",
    "    parent_url = \"https://astrogeology.usgs.gov\"\n",
    "    \n",
    "    USGS = get_soup(\"https://astrogeology.usgs.gov/search/results?q=hemisphere+enhanced&k1=target&v1=Mars\")\n",
    "\n",
    "    # Duplicate links are avoided by slicing the list to return every odd element. '[1::2]'\n",
    "    # Cannot scrape names from even elements in list.\n",
    "    hemisphere_url_paths = USGS.find_all(class_=\"itemLink product-item\")[1::2]\n",
    "    \n",
    "    hemisphere_names = [name.text.replace(' Enhanced','') for name in hemisphere_url_paths]\n",
    "    hemisphere_links = [parent_url + path['href'] for path in hemisphere_url_paths]\n",
    "    \n",
    "    # Goes through each link and scrapes the image url for the given hemisphere\n",
    "    for link in hemisphere_links:\n",
    "        pic_url = get_soup(link).find('div', class_='downloads').find('a')['href']\n",
    "        pic_list.append(pic_url)\n",
    "    \n",
    "    url_dictionary = [{'title': a, 'img_url': b} for a,b in zip(hemisphere_names,pic_list)]\n",
    "    \n",
    "    return url_dictionary"
   ]
  },
  {
   "cell_type": "code",
   "execution_count": 10,
   "metadata": {},
   "outputs": [],
   "source": [
    "def scrape():\n",
    "    dic = {}\n",
    "    dic['headlines'] = random_element(mars_headlines())\n",
    "    dic['featured_image'] = featured_image()\n",
    "    dic['tweets'] = random_element(get_tweets())\n",
    "    dic['fact_table'] = mars_html_table()\n",
    "    dic['hemispheres'] = mars_hemispheres()\n",
    "    return dic"
   ]
  }
 ],
 "metadata": {
  "kernelspec": {
   "display_name": "PythonData",
   "language": "python",
   "name": "pythondata"
  },
  "language_info": {
   "codemirror_mode": {
    "name": "ipython",
    "version": 3
   },
   "file_extension": ".py",
   "mimetype": "text/x-python",
   "name": "python",
   "nbconvert_exporter": "python",
   "pygments_lexer": "ipython3",
   "version": "3.6.0"
  }
 },
 "nbformat": 4,
 "nbformat_minor": 2
}
